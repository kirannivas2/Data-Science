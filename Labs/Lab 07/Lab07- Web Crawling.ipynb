{
 "cells": [
  {
   "cell_type": "markdown",
   "metadata": {},
   "source": [
    "# Lab07: Web Crawling"
   ]
  },
  {
   "cell_type": "markdown",
   "metadata": {},
   "source": [
    "## Overview\n",
    "\n",
    "There are three parts to this exercise.  I would like you to place all material for this exercise in your github repository in the directory `labs/07/` directory.\n",
    "\n",
    "Objectives:\n",
    "* Learning HTML by writing it\n",
    "* Using BeautifulSoup to scrape data from webpages\n",
    "\n",
    "<span style=\"color:red\">Make sure you have installed BeautifulSoup into your conda environment</span>.\n",
    "\n"
   ]
  },
  {
   "cell_type": "markdown",
   "metadata": {},
   "source": [
    "## Part A:  Making a webpage\n",
    "\n",
    "I would like you to write a valid HTML webpage.  You don't need any special software to do this: any text editor (including VSCode) would do.  Name the page exercise08.html.  The page must contain the following elements:\n",
    "\n",
    "* A level-1 header\n",
    "* An image (download one and put it in the exercise/08 folder with the page)\n",
    "* A few paragraphs (about any topic)\n",
    "* A few links in those paragraphs (that are to other pages on that topic)\n",
    "* A table with three columns, one heading column, and at least three data columns\n",
    "* You can pick the topic for the table.\n",
    "\n",
    "Make this webpage and its contents available in your github repository for today's lab.\n"
   ]
  },
  {
   "cell_type": "code",
   "execution_count": 12,
   "metadata": {},
   "outputs": [],
   "source": [
    "# There is no code for part A, but\n",
    "# a code cell does break up the notebook\n",
    "fn_html = 'exercise08.html'"
   ]
  },
  {
   "cell_type": "markdown",
   "metadata": {},
   "source": [
    "## Part B: A Simple Beautiful Soup\n",
    "\n",
    "I would like you to find all the URLS used in the links in your webpage using the find_all method from Beautiful Soup.\n",
    "\n",
    "You may use this starter code to assist you"
   ]
  },
  {
   "cell_type": "code",
   "execution_count": 13,
   "metadata": {},
   "outputs": [],
   "source": [
    "# This code will get you started with finding the links\n",
    "# in your webpage\n",
    "\n",
    "from bs4 import BeautifulSoup\n",
    "\n",
    "filename='exercise08.html'  # <--- change this to your file\n",
    "                            # it should be in the same directory \n",
    "                            # as this notebook\n",
    "with open(filename) as fh:\n",
    "    parsed_page = BeautifulSoup(fh)"
   ]
  },
  {
   "cell_type": "code",
   "execution_count": 14,
   "metadata": {},
   "outputs": [
    {
     "data": {
      "text/plain": [
       "['https://cse.msu.edu/~cse801a',\n",
       " 'http://www.weather.gov',\n",
       " 'http://www.msu.edu']"
      ]
     },
     "execution_count": 14,
     "metadata": {},
     "output_type": "execute_result"
    }
   ],
   "source": [
    "all_a_tags = parsed_page.find_all('a')\n",
    "all_links = list(map(lambda x: x.attrs['href'], all_a_tags))\n",
    "all_links"
   ]
  },
  {
   "cell_type": "markdown",
   "metadata": {},
   "source": [
    "## Part C:  Crawling Wikipedia with Beautiful Soup\n",
    "\n",
    "I'd like you to find all the unique web pages linked to from the **Young Frankenstein** Wikipedia page that are also within the wikipedia domain.  Use the demo from today to guide your efforts.\n",
    "\n",
    "Link: [https://en.wikipedia.org/wiki/Young_Frankenstein](https://en.wikipedia.org/wiki/Young_Frankenstein)"
   ]
  },
  {
   "cell_type": "code",
   "execution_count": 15,
   "metadata": {},
   "outputs": [],
   "source": [
    "import urllib"
   ]
  },
  {
   "cell_type": "code",
   "execution_count": 16,
   "metadata": {},
   "outputs": [
    {
     "name": "stdout",
     "output_type": "stream",
     "text": [
      "Response code: 200\n",
      "date: Sat, 30 Apr 2022 18:33:04 GMT\n",
      "vary: Accept-Encoding,Cookie,Authorization\n",
      "server: ATS/8.0.8\n",
      "x-content-type-options: nosniff\n",
      "p3p: CP=\"See https://en.wikipedia.org/wiki/Special:CentralAutoLogin/P3P for more info.\"\n",
      "content-language: en\n",
      "last-modified: Fri, 29 Apr 2022 18:37:03 GMT\n",
      "content-type: text/html; charset=UTF-8\n",
      "age: 11504\n",
      "x-cache: cp1085 miss, cp1085 hit/132\n",
      "x-cache-status: hit-front\n",
      "server-timing: cache;desc=\"hit-front\", host;desc=\"cp1085\"\n",
      "strict-transport-security: max-age=106384710; includeSubDomains; preload\n",
      "report-to: { \"group\": \"wm_nel\", \"max_age\": 86400, \"endpoints\": [{ \"url\": \"https://intake-logging.wikimedia.org/v1/events?stream=w3c.reportingapi.network_error&schema_uri=/w3c/reportingapi/network_error/1.0.0\" }] }\n",
      "nel: { \"report_to\": \"wm_nel\", \"max_age\": 86400, \"failure_fraction\": 0.05, \"success_fraction\": 0.0}\n",
      "set-cookie: WMF-Last-Access=30-Apr-2022;Path=/;HttpOnly;secure;Expires=Wed, 01 Jun 2022 12:00:00 GMT\n",
      "set-cookie: WMF-Last-Access-Global=30-Apr-2022;Path=/;Domain=.wikipedia.org;HttpOnly;secure;Expires=Wed, 01 Jun 2022 12:00:00 GMT\n",
      "accept-ch: Sec-CH-UA-Arch,Sec-CH-UA-Bitness,Sec-CH-UA-Full-Version-List,Sec-CH-UA-Model,Sec-CH-UA-Platform-Version\n",
      "permissions-policy: interest-cohort=(),ch-ua-arch=(self \"intake-analytics.wikimedia.org\"),ch-ua-bitness=(self \"intake-analytics.wikimedia.org\"),ch-ua-full-version-list=(self \"intake-analytics.wikimedia.org\"),ch-ua-model=(self \"intake-analytics.wikimedia.org\"),ch-ua-platform-version=(self \"intake-analytics.wikimedia.org\")\n",
      "x-client-ip: 50.201.177.106\n",
      "cache-control: private, s-maxage=0, max-age=0, must-revalidate\n",
      "set-cookie: GeoIP=US:MI:East_Lansing:42.74:-84.48:v4; Path=/; secure; Domain=.wikipedia.org\n",
      "accept-ranges: bytes\n",
      "content-length: 213453\n",
      "connection: close\n",
      "\n",
      "\n"
     ]
    }
   ],
   "source": [
    "url = 'https://en.wikipedia.org/wiki/Young_Frankenstein'\n",
    "import ssl\n",
    "\n",
    "# ssl.SSLContext() gives us the ability to ignore secure sites\n",
    "with urllib.request.urlopen(url, context=ssl.SSLContext(), timeout=5) as response:\n",
    "    soup = BeautifulSoup(response.read())\n",
    "    meta_data = response.info()\n",
    "    response_code = response.getcode()\n",
    "\n",
    "print(f'Response code: {response_code}')\n",
    "print(meta_data)"
   ]
  },
  {
   "cell_type": "code",
   "execution_count": 17,
   "metadata": {},
   "outputs": [
    {
     "data": {
      "text/plain": [
       "817"
      ]
     },
     "execution_count": 17,
     "metadata": {},
     "output_type": "execute_result"
    }
   ],
   "source": [
    "# Give us all unique links (unnormalized)\n",
    "\n",
    "# Give us only a tags with href attributes\n",
    "all_a_tags_with_href = set(filter(lambda x: 'href' in x.attrs, soup.body.find_all('a')))\n",
    "\n",
    "# We want the links from those a tag's href attributes\n",
    "links_in_page = set(map(lambda x: x.attrs['href'], all_a_tags_with_href))\n",
    "\n",
    "# We want to \"normalize\" these links to make them fully specified\n",
    "links_in_page = set(map(lambda x: urllib.parse.urljoin(url, x), links_in_page))\n",
    "len(links_in_page)"
   ]
  },
  {
   "cell_type": "code",
   "execution_count": 18,
   "metadata": {},
   "outputs": [
    {
     "data": {
      "text/plain": [
       "720"
      ]
     },
     "execution_count": 18,
     "metadata": {},
     "output_type": "execute_result"
    }
   ],
   "source": [
    "# We are just interested in pages in the wikipedia.org domain\n",
    "# We can restrict ourselves to en.wikipedia.org for brevity; it's fine if you do this\n",
    "# in your next assignment\n",
    "links_in_wikipedia = set(filter(lambda x: urllib.parse.urlparse(x).netloc.endswith('wikipedia.org'), links_in_page))\n",
    "len(links_in_wikipedia)"
   ]
  },
  {
   "cell_type": "code",
   "execution_count": 19,
   "metadata": {},
   "outputs": [],
   "source": [
    "webpages_on_wikipedia = set()\n",
    "\n",
    "# We want just the web pages.\n",
    "# So we have to examine the meta info of \"Content-Type\" to find \"text/html\"\n",
    "for wiki_url in links_in_wikipedia:\n",
    "    try:\n",
    "        # Something could go wrong (e.g. 404 not found), so use a try\n",
    "        with urllib.request.urlopen(wiki_url, context=ssl.SSLContext(), timeout=5) as response:\n",
    "            content_type = response.info()['Content-Type']\n",
    "            # content_type = response.get_headers().get_content_type() \n",
    "            if 'text/html' in content_type:\n",
    "                webpages_on_wikipedia.add(wiki_url)\n",
    "    except:\n",
    "        # Catch exception, print message, continue loop\n",
    "        print(f'Unable to open {wiki_url}')"
   ]
  },
  {
   "cell_type": "code",
   "execution_count": 20,
   "metadata": {},
   "outputs": [
    {
     "data": {
      "text/plain": [
       "[[0], [1], [2]]"
      ]
     },
     "execution_count": 20,
     "metadata": {},
     "output_type": "execute_result"
    }
   ],
   "source": [
    "x = list([[0],[1],[2]])\n",
    "x"
   ]
  },
  {
   "cell_type": "code",
   "execution_count": 21,
   "metadata": {},
   "outputs": [
    {
     "data": {
      "text/plain": [
       "[0, 1, 2]"
      ]
     },
     "execution_count": 21,
     "metadata": {},
     "output_type": "execute_result"
    }
   ],
   "source": [
    "x_ints = list(map(lambda x: x[0], x))\n",
    "x_ints"
   ]
  }
 ],
 "metadata": {
  "kernelspec": {
   "display_name": "Python 3",
   "language": "python",
   "name": "python3"
  },
  "language_info": {
   "codemirror_mode": {
    "name": "ipython",
    "version": 3
   },
   "file_extension": ".py",
   "mimetype": "text/x-python",
   "name": "python",
   "nbconvert_exporter": "python",
   "pygments_lexer": "ipython3",
   "version": "3.9.7"
  }
 },
 "nbformat": 4,
 "nbformat_minor": 2
}
