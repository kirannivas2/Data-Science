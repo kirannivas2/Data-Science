{
 "cells": [
  {
   "cell_type": "markdown",
   "metadata": {},
   "source": [
    "# Lab 08: Web Scraping Wikipedia\n",
    "\n",
    "You will need the following packages installed into your conda environment:\n",
    "\n",
    "* scikit-learn\n",
    "* yellowbrick\n",
    "* BeautifulSoup4\n",
    "\n",
    "I would like you to examine whether or not there is a linear correlation between the size of a US state and the year it was admitted to the union.  That is to say, were larger states admitted into the United States later than smaller states?  If there is a linear relationship, we can say this is the case.\n",
    "\n",
    "Objectives: \n",
    "+ Scraping a table from a webpage\n",
    "+ Storing that data in a dataframe\n",
    "+ Performing a linear regression on that data\n",
    "\n",
    "\n",
    "\n",
    "\n",
    "\n"
   ]
  },
  {
   "cell_type": "code",
   "execution_count": null,
   "metadata": {},
   "outputs": [],
   "source": [
    "import urllib\n",
    "import matplotlib.pylab as plt\n",
    "from bs4 import BeautifulSoup\n",
    "import bs4\n",
    "from sklearn import linear_model\n",
    "from sklearn.metrics import mean_squared_error, r2_score\n",
    "import pandas as pd\n",
    "import numpy as np"
   ]
  },
  {
   "cell_type": "markdown",
   "metadata": {},
   "source": [
    "## Part A\n",
    "Using the URL I've provided below, I want you to scrape:\n",
    "1. The name of each state\n",
    "2. The year of admittance for each state\n",
    "3. The land area for each state\n",
    "\n",
    "Examine the URL to the webpage I've provided using your browser's element inspector to determine how to parse the relavent table.  \n",
    "\n",
    "Store the data collected in a Pandas' DataFrame.\n"
   ]
  },
  {
   "cell_type": "code",
   "execution_count": null,
   "metadata": {},
   "outputs": [],
   "source": [
    "# Write your solution here.  \n",
    "# You may need to use multiple cells to keep track of your efforts.\n",
    "url='https://en.wikipedia.org/wiki/List_of_states_and_territories_of_the_United_States'"
   ]
  },
  {
   "cell_type": "code",
   "execution_count": 3,
   "metadata": {},
   "outputs": [],
   "source": []
  },
  {
   "cell_type": "markdown",
   "metadata": {},
   "source": [
    "## Part B\n",
    "\n",
    "Now that we have our data, we can go about plotting it and doing a regression on it.  We're not going to separate test and training data because we're really only interested in the regression line, not how well the regression performs on unseen data. \n",
    "\n",
    "I'd like you to use the Ridge linear model: https://scikit-learn.org/stable/modules/generated/sklearn.linear_model.Ridge.html\n",
    "\n",
    "And I'd like you to follow the histogram plot example on this page: https://www.scikit-yb.org/en/latest/api/regressor/residuals.html# to check whether or not our residuals (error) are normally distributed (as they should be in a \"good\" linear regression)\n",
    "\n",
    "**We will not be splitting the data set into testing and training.**  Only use the \"training\" data -- so 100% of the data is training."
   ]
  },
  {
   "cell_type": "code",
   "execution_count": null,
   "metadata": {},
   "outputs": [],
   "source": [
    "# Because this is univariate data, we need to first\n",
    "# transform our input data into 1-dimensional arrays\n",
    "# If your DataFrame is called df and has columns YearsFounded and SizeMi2\n",
    "# You can use the following\n",
    "# x_vals = df['YearFounded'].to_numpy().reshape(-1,1)\n",
    "# y_vals = df['SizeMi2'].to_numpy().reshape(-1,1)"
   ]
  },
  {
   "cell_type": "code",
   "execution_count": null,
   "metadata": {},
   "outputs": [],
   "source": [
    "# Use the Ridge linear regression model from skit-learn\n",
    "# Then print out the model coefficients and intercept\n",
    "# You will have to call fit() on the model and then\n",
    "# look at the attributes in the documentation\n",
    "# Also look at our regression score"
   ]
  },
  {
   "cell_type": "code",
   "execution_count": null,
   "metadata": {},
   "outputs": [],
   "source": [
    "# Let's plot our result to see our fit\n",
    "# if x_vals and y_vals are your data sets and\n",
    "# regression is the name of your linear model\n",
    "# This will plot the data points and the best fit line\n",
    "#\n",
    "# plt.scatter(x_vals, y_vals, color='g')   # to plot the data\n",
    "# plt.plot(x_vals, regression.predict(x_vals), 'k') # to plot the regression\n"
   ]
  },
  {
   "cell_type": "code",
   "execution_count": null,
   "metadata": {},
   "outputs": [],
   "source": [
    "# Let's check our residuals with a histogram\n",
    "# You can use the following code\n",
    "# if x_vals and y_vals are your data sets\n",
    "#\n",
    "# model = linear_model.Ridge()\n",
    "# visualizer = ResidualsPlot(model, hist=True)\n",
    "# visualizer.fit(x_vals, y_vals)\n",
    "# visualizer.show()\n",
    "#\n",
    "# If our linear model is valid, then the residuals should\n",
    "# be normally distributed.  The histogram on the right\n",
    "# should be a normal distribution.  Is it?  Or are there outliers?"
   ]
  }
 ],
 "metadata": {
  "kernelspec": {
   "display_name": "Python 3",
   "language": "python",
   "name": "python3"
  },
  "language_info": {
   "codemirror_mode": {
    "name": "ipython",
    "version": 3
   },
   "file_extension": ".py",
   "mimetype": "text/x-python",
   "name": "python",
   "nbconvert_exporter": "python",
   "pygments_lexer": "ipython3",
   "version": "3.8.5"
  }
 },
 "nbformat": 4,
 "nbformat_minor": 2
}
